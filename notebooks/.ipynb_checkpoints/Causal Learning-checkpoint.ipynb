{
 "cells": [
  {
   "cell_type": "markdown",
   "metadata": {},
   "source": [
    "# Causal Learning"
   ]
  },
  {
   "cell_type": "markdown",
   "metadata": {},
   "source": [
    "## Imports"
   ]
  },
  {
   "cell_type": "code",
   "execution_count": 1,
   "metadata": {},
   "outputs": [
    {
     "ename": "ModuleNotFoundError",
     "evalue": "No module named 'causalnex'",
     "output_type": "error",
     "traceback": [
      "\u001b[1;31m---------------------------------------------------------------------------\u001b[0m",
      "\u001b[1;31mModuleNotFoundError\u001b[0m                       Traceback (most recent call last)",
      "Input \u001b[1;32mIn [1]\u001b[0m, in \u001b[0;36m<cell line: 7>\u001b[1;34m()\u001b[0m\n\u001b[0;32m      4\u001b[0m \u001b[38;5;28;01mimport\u001b[39;00m \u001b[38;5;21;01mseaborn\u001b[39;00m \u001b[38;5;28;01mas\u001b[39;00m \u001b[38;5;21;01msns\u001b[39;00m\n\u001b[0;32m      5\u001b[0m \u001b[38;5;28;01mimport\u001b[39;00m \u001b[38;5;21;01mmatplotlib\u001b[39;00m\u001b[38;5;21;01m.\u001b[39;00m\u001b[38;5;21;01mpyplot\u001b[39;00m \u001b[38;5;28;01mas\u001b[39;00m \u001b[38;5;21;01mplt\u001b[39;00m\n\u001b[1;32m----> 7\u001b[0m \u001b[38;5;28;01mfrom\u001b[39;00m \u001b[38;5;21;01mcausalnex\u001b[39;00m\u001b[38;5;21;01m.\u001b[39;00m\u001b[38;5;21;01mdiscretiser\u001b[39;00m \u001b[38;5;28;01mimport\u001b[39;00m Discretiser\n\u001b[0;32m      8\u001b[0m \u001b[38;5;28;01mfrom\u001b[39;00m \u001b[38;5;21;01mcausalnex\u001b[39;00m\u001b[38;5;21;01m.\u001b[39;00m\u001b[38;5;21;01mstructure\u001b[39;00m \u001b[38;5;28;01mimport\u001b[39;00m DAGRegressor\n\u001b[0;32m      9\u001b[0m \u001b[38;5;28;01mfrom\u001b[39;00m \u001b[38;5;21;01mcausalnex\u001b[39;00m\u001b[38;5;21;01m.\u001b[39;00m\u001b[38;5;21;01minference\u001b[39;00m \u001b[38;5;28;01mimport\u001b[39;00m InferenceEngine\n",
      "\u001b[1;31mModuleNotFoundError\u001b[0m: No module named 'causalnex'"
     ]
    }
   ],
   "source": [
    "import warnings\n",
    "import numpy as np\n",
    "import pandas as pd\n",
    "import seaborn as sns\n",
    "import matplotlib.pyplot as plt\n",
    "\n",
    "from causalnex.discretiser import Discretiser\n",
    "from causalnex.structure import DAGRegressor\n",
    "from causalnex.inference import InferenceEngine\n",
    "from causalnex.network import BayesianNetwork\n",
    "from causalnex.network.sklearn import BayesianNetworkClassifier\n",
    "from causalnex.structure.notears import from_pandas\n",
    "from causalnex.utils.network_utils import get_markov_blanket\n",
    "from causalnex.structure.notears import from_pandas, from_pandas_lasso\n",
    "from causalnex.discretiser.discretiser_strategy import ( DecisionTreeSupervisedDiscretiserMethod )\n",
    "\n",
    "from sklearn.model_selection import KFold\n",
    "from sklearn.model_selection import train_test_split\n",
    "from sklearn.metrics import recall_score, f1_score, accuracy_score, precision_score"
   ]
  },
  {
   "cell_type": "code",
   "execution_count": null,
   "metadata": {},
   "outputs": [],
   "source": [
    "sns.set()\n",
    "%matplotlib inline\n",
    "warnings.filterwarnings(\"ignore\")\n",
    "pd.set_option('display.max_columns', None)\n",
    "pd.set_option('display.max_colwidth', None)\n",
    "pd.set_option(\"expand_frame_repr\", False)\n",
    "pd.set_option('display.float_format', '{:.2f}'.format)"
   ]
  },
  {
   "cell_type": "code",
   "execution_count": null,
   "metadata": {},
   "outputs": [],
   "source": [
    "sys.path.append(os.path.abspath(os.path.join('../scripts')))"
   ]
  },
  {
   "cell_type": "code",
   "execution_count": null,
   "metadata": {},
   "outputs": [],
   "source": [
    "from file_handler import FileHandler\n",
    "import vis_seaborn as vs\n",
    "from eda_helper import Helper\n",
    "from df_overview import DfOverview\n",
    "from ScalerNormalizer import ScalerNormalizer"
   ]
  },
  {
   "cell_type": "code",
   "execution_count": null,
   "metadata": {},
   "outputs": [],
   "source": [
    "helper = Helper()\n",
    "sn = ScalerNormalizer()"
   ]
  },
  {
   "cell_type": "markdown",
   "metadata": {},
   "source": [
    "## Data reading"
   ]
  },
  {
   "cell_type": "code",
   "execution_count": null,
   "metadata": {},
   "outputs": [],
   "source": [
    "fh = FileHandler()\n",
    "df = fh.read_csv(\"../data/data.csv\")\n",
    "df.head(5)"
   ]
  },
  {
   "cell_type": "code",
   "execution_count": null,
   "metadata": {},
   "outputs": [],
   "source": [
    "feat = ['diagnosis', 'perimeter_worst', 'area_worst', 'radius_worst', 'concave points_worst', 'concave points_mean', 'perimeter_mean', 'area_mean', 'radius_mean', 'area_se', 'concavity_mean', 'concavity_worst', 'perimeter_se', 'radius_se', 'compactness_worst', 'compactness_mean', 'texture_worst', 'concave points_se', 'smoothness_worst', 'texture_mean', 'symmetry_worst', 'concavity_se', 'smoothness_mean', 'symmetry_mean', 'compactness_se', 'fractal_dimension_worst', 'fractal_dimension_se', 'texture_se', 'fractal_dimension_mean', 'symmetry_se', 'smoothness_se']"
   ]
  },
  {
   "cell_type": "code",
   "execution_count": null,
   "metadata": {},
   "outputs": [],
   "source": [
    "x = df[feat[:29]]\n",
    "x['diagnosis'] = x['diagnosis'].apply(lambda x: 1 if x == \"M\" else 0)\n",
    "x.head(5)"
   ]
  },
  {
   "cell_type": "code",
   "execution_count": null,
   "metadata": {},
   "outputs": [],
   "source": [
    "num_feat = x.shape[1]-1\n",
    "fig = plt.figure(figsize=(25, num_feat))\n",
    "fig.subplots_adjust(hspace=.5)\n",
    "axs = [fig.add_subplot(num_feat / 4, 4, i + 1) for i in range(num_feat)]\n",
    "\n",
    "for i, column in enumerate(x.columns[1:]):\n",
    "    sns.distplot(x[x.diagnosis == 1][column], ax=axs[i], color='darkorange', label=\"M\")\n",
    "    sns.distplot(x[x.diagnosis == 0][column], ax=axs[i], color='darkgreen', label=\"B\")\n",
    "    axs[i].set_title('Distribution for {}'.format( column), fontweight='bold', fontsize=15)\n",
    "    axs[i].legend(fontsize=20)\n",
    "plt.show()"
   ]
  },
  {
   "cell_type": "markdown",
   "metadata": {},
   "source": [
    "## Normalize the data"
   ]
  },
  {
   "cell_type": "code",
   "execution_count": null,
   "metadata": {},
   "outputs": [],
   "source": [
    "features = x.iloc[:, 1:]\n",
    "features"
   ]
  },
  {
   "cell_type": "code",
   "execution_count": null,
   "metadata": {},
   "outputs": [],
   "source": [
    "normal_data = sn.scale_and_normalize(features, features.columns.to_list())\n",
    "normal_data.insert(loc=0, column='diagnosis', value=x['diagnosis'])\n",
    "normal_data"
   ]
  },
  {
   "cell_type": "code",
   "execution_count": null,
   "metadata": {},
   "outputs": [],
   "source": [
    "%%time\n",
    "sm = from_pandas(normal_data.iloc[:, :9], tabu_parent_nodes=['diagnosis'],)"
   ]
  },
  {
   "cell_type": "code",
   "execution_count": null,
   "metadata": {},
   "outputs": [],
   "source": [
    "vs.vis_sm(sm)"
   ]
  },
  {
   "cell_type": "code",
   "execution_count": null,
   "metadata": {},
   "outputs": [],
   "source": [
    "sm.remove_edges_below_threshold(0.8)\n",
    "vs.vis_sm(sm)"
   ]
  },
  {
   "cell_type": "markdown",
   "metadata": {},
   "source": [
    "## Stablity of causal graph\n"
   ]
  },
  {
   "cell_type": "code",
   "execution_count": null,
   "metadata": {},
   "outputs": [],
   "source": [
    "x_selected = normal_data.iloc[:, :10]"
   ]
  },
  {
   "cell_type": "markdown",
   "metadata": {},
   "source": [
    "### 50%"
   ]
  },
  {
   "cell_type": "code",
   "execution_count": null,
   "metadata": {},
   "outputs": [],
   "source": [
    "portion = int(x_selected.shape[0] *.5)\n",
    "x_portion = x_selected.head(portion)"
   ]
  },
  {
   "cell_type": "code",
   "execution_count": null,
   "metadata": {},
   "outputs": [],
   "source": [
    "%%time\n",
    "sm1 = from_pandas(x_portion, tabu_parent_nodes=['diagnosis'],)\n",
    "sm1.remove_edges_below_threshold(0.8)\n",
    "sm1 = sm1.get_largest_subgraph()\n",
    "vs.vis_sm(sm1)"
   ]
  },
  {
   "cell_type": "code",
   "execution_count": null,
   "metadata": {},
   "outputs": [],
   "source": [
    "print(sm1.edges)"
   ]
  },
  {
   "cell_type": "markdown",
   "metadata": {},
   "source": [
    "# 60%"
   ]
  },
  {
   "cell_type": "code",
   "execution_count": null,
   "metadata": {},
   "outputs": [],
   "source": [
    "portion = int(x_selected.shape[0]*.6)\n",
    "x_portion = x_selected.head(portion)"
   ]
  },
  {
   "cell_type": "code",
   "execution_count": null,
   "metadata": {},
   "outputs": [],
   "source": [
    "%%time\n",
    "sm2 = from_pandas(x_portion, tabu_parent_nodes=['diagnosis'],)\n",
    "sm2.remove_edges_below_threshold(0.8)\n",
    "sm2 = sm2.get_largest_subgraph()\n",
    "vs.vis_sm(sm2)"
   ]
  },
  {
   "cell_type": "code",
   "execution_count": null,
   "metadata": {},
   "outputs": [],
   "source": [
    "def jaccard_similarity(g, h):\n",
    "    i = set(g).intersection(h)\n",
    "    return round(len(i) / (len(g) + len(h) - len(i)), 3)"
   ]
  },
  {
   "cell_type": "code",
   "execution_count": null,
   "metadata": {},
   "outputs": [],
   "source": [
    "jaccard_similarity(sm1.edges, sm2.edges)"
   ]
  },
  {
   "cell_type": "markdown",
   "metadata": {},
   "source": [
    "# 70%"
   ]
  },
  {
   "cell_type": "code",
   "execution_count": null,
   "metadata": {},
   "outputs": [],
   "source": [
    "portion = int(x_selected.shape[0]*.7)\n",
    "x_portion = x_selected.head(portion)"
   ]
  },
  {
   "cell_type": "code",
   "execution_count": null,
   "metadata": {},
   "outputs": [],
   "source": [
    "%%time\n",
    "sm3 = from_pandas(x_portion, tabu_parent_nodes=['diagnosis'],)\n",
    "sm3.remove_edges_below_threshold(0.8)\n",
    "sm3 = sm3.get_largest_subgraph()\n",
    "vs.vis_sm(sm3)"
   ]
  },
  {
   "cell_type": "code",
   "execution_count": null,
   "metadata": {},
   "outputs": [],
   "source": [
    "jaccard_similarity(sm2.edges, sm3.edges)"
   ]
  },
  {
   "cell_type": "markdown",
   "metadata": {},
   "source": [
    "# 80%"
   ]
  },
  {
   "cell_type": "code",
   "execution_count": null,
   "metadata": {},
   "outputs": [],
   "source": [
    "portion = int(x_selected.shape[0] * .8)\n",
    "x_portion = x_selected.head(portion)"
   ]
  },
  {
   "cell_type": "code",
   "execution_count": null,
   "metadata": {},
   "outputs": [],
   "source": [
    "%%time\n",
    "sm4 = from_pandas(x_portion, tabu_parent_nodes=['diagnosis'],)\n",
    "sm4.remove_edges_below_threshold(0.8)\n",
    "sm4 = sm4.get_largest_subgraph()\n",
    "vs.vis_sm(sm4)"
   ]
  },
  {
   "cell_type": "code",
   "execution_count": null,
   "metadata": {},
   "outputs": [],
   "source": [
    "jaccard_similarity(sm3.edges, sm4.edges)"
   ]
  },
  {
   "cell_type": "markdown",
   "metadata": {},
   "source": [
    "# 90%"
   ]
  },
  {
   "cell_type": "code",
   "execution_count": null,
   "metadata": {},
   "outputs": [],
   "source": [
    "portion = int(x_selected.shape[0] * .9)\n",
    "x_portion = x_selected.head(portion)"
   ]
  },
  {
   "cell_type": "code",
   "execution_count": null,
   "metadata": {},
   "outputs": [],
   "source": [
    "%%time\n",
    "sm5 = from_pandas(x_portion, tabu_parent_nodes=['diagnosis'],)\n",
    "sm5.remove_edges_below_threshold(0.8)\n",
    "sm5 = sm5.get_largest_subgraph()\n",
    "vs.vis_sm(sm5)"
   ]
  },
  {
   "cell_type": "code",
   "execution_count": null,
   "metadata": {},
   "outputs": [],
   "source": [
    "Casual Inference model for breast cancer"
   ]
  },
  {
   "cell_type": "code",
   "execution_count": null,
   "metadata": {},
   "outputs": [],
   "source": [
    "jaccard_similarity(sm5.edges, sm4.edges)"
   ]
  },
  {
   "cell_type": "markdown",
   "metadata": {},
   "source": [
    "# 100%"
   ]
  },
  {
   "cell_type": "code",
   "execution_count": null,
   "metadata": {},
   "outputs": [],
   "source": [
    "%%time\n",
    "sm = from_pandas(x_selected, tabu_parent_nodes=['diagnosis'],)\n",
    "sm.remove_edges_below_threshold(0.8)\n",
    "sm = sm.get_largest_subgraph()\n",
    "vs.vis_sm(sm)"
   ]
  },
  {
   "cell_type": "code",
   "execution_count": null,
   "metadata": {},
   "outputs": [],
   "source": [
    "jaccard_similarity(sm.edges, sm5.edges)"
   ]
  },
  {
   "cell_type": "markdown",
   "metadata": {},
   "source": [
    "## Reducing a graph to its Markov Blanket"
   ]
  },
  {
   "cell_type": "markdown",
   "metadata": {},
   "source": [
    "Now, assume that target is our variable of interest. We actually do not need all the nodes in the network but only the MB of target. To achieve that, we simply need to use the get_markov_blanket function from causalnex. Specifically,"
   ]
  },
  {
   "cell_type": "code",
   "execution_count": null,
   "metadata": {},
   "outputs": [],
   "source": [
    "bn = BayesianNetwork(sm)\n",
    "blanket = get_markov_blanket(bn, 'diagnosis')\n",
    "edge_list = list(blanket.structure.edges)\n",
    "edge_list"
   ]
  },
  {
   "cell_type": "code",
   "execution_count": null,
   "metadata": {},
   "outputs": [],
   "source": [
    "vs.vis_sm(blanket.structure)"
   ]
  },
  {
   "cell_type": "markdown",
   "metadata": {},
   "source": [
    "## Discretising Numeric Features"
   ]
  },
  {
   "cell_type": "code",
   "execution_count": null,
   "metadata": {},
   "outputs": [],
   "source": [
    "x_selected = x.iloc[:, :10]\n",
    "x_selected"
   ]
  },
  {
   "cell_type": "code",
   "execution_count": null,
   "metadata": {},
   "outputs": [],
   "source": [
    "df_overview = DfOverview(x_selected)\n",
    "overview = df_overview.getOverview()\n",
    "vs.view_df(overview[[\"count\", \"unique_value_count\", \"unique_percentage\"]],\n",
    "                    [\"count\", \"unique_value_count\"])"
   ]
  },
  {
   "cell_type": "code",
   "execution_count": null,
   "metadata": {},
   "outputs": [],
   "source": [
    "features = list(x_selected.columns.difference(['diagnosis']))\n",
    "features"
   ]
  },
  {
   "cell_type": "code",
   "execution_count": null,
   "metadata": {},
   "outputs": [],
   "source": [
    "tree_discretiser = DecisionTreeSupervisedDiscretiserMethod(\n",
    "    mode='single',\n",
    "    tree_params={'max_depth': 3, 'random_state': 27},\n",
    ")\n",
    "tree_discretiser.fit(\n",
    "    feat_names=features,\n",
    "    dataframe=x,\n",
    "    target_continuous=True,\n",
    "    target='diagnosis',\n",
    ")\n",
    "tree_discretiser"
   ]
  },
  {
   "cell_type": "code",
   "execution_count": null,
   "metadata": {},
   "outputs": [],
   "source": [
    "discretised_data = x_selected.copy()\n",
    "for col in features:\n",
    "    discretised_data[col] = tree_discretiser.transform(x_selected[[col]])\n"
   ]
  },
  {
   "cell_type": "code",
   "execution_count": null,
   "metadata": {},
   "outputs": [],
   "source": [
    "df_overview = DfOverview(discretised_data)\n",
    "overview = df_overview.getOverview()\n",
    "vs.view_df(overview[[\"count\", \"unique_value_count\", \"unique_percentage\"]],\n",
    "           [\"count\", \"unique_value_count\"])"
   ]
  },
  {
   "cell_type": "markdown",
   "metadata": {},
   "source": [
    "## Train Test Split"
   ]
  },
  {
   "cell_type": "code",
   "execution_count": null,
   "metadata": {},
   "outputs": [],
   "source": [
    "train, test = train_test_split( discretised_data, train_size=0.8, test_size=0.2, random_state=27)"
   ]
  },
  {
   "cell_type": "markdown",
   "metadata": {},
   "source": [
    "## Bayesian Network"
   ]
  },
  {
   "cell_type": "code",
   "execution_count": null,
   "metadata": {},
   "outputs": [],
   "source": [
    "bn = BayesianNetwork(blanket.structure)\n",
    "bn = bn.fit_node_states(discretised_data)\n",
    "bn = bn.fit_cpds(train, method=\"BayesianEstimator\", bayes_prior=\"K2\")"
   ]
  },
  {
   "cell_type": "code",
   "execution_count": null,
   "metadata": {},
   "outputs": [],
   "source": [
    "pred = bn.predict(test, 'diagnosis')\n",
    "true = test['diagnosis']\n",
    "pred"
   ]
  },
  {
   "cell_type": "code",
   "execution_count": null,
   "metadata": {},
   "outputs": [],
   "source": [
    "print('Recall: {:.2f}'.format(recall_score(y_true=true, y_pred=pred)))\n",
    "print('F1: {:.2f} '.format(f1_score(y_true=true, y_pred=pred)))\n",
    "print('Accuracy: {:.2f} '.format(accuracy_score(y_true=true, y_pred=pred)))\n",
    "print('Precision: {:.2f} '.format(precision_score(y_true=true, y_pred=pred)))"
   ]
  },
  {
   "cell_type": "markdown",
   "metadata": {},
   "source": [
    "## Inference\n"
   ]
  },
  {
   "cell_type": "code",
   "execution_count": null,
   "metadata": {},
   "outputs": [],
   "source": [
    "ie = InferenceEngine(bn)"
   ]
  },
  {
   "cell_type": "markdown",
   "metadata": {},
   "source": [
    "What would be the Outcome if all people actually had healthy weight? — If all people were with healthy weight, there will be less positive diagnosis.(from 0.42 to 0.30)"
   ]
  },
  {
   "cell_type": "code",
   "execution_count": null,
   "metadata": {},
   "outputs": [],
   "source": [
    "observation_1 = {\"area_mean\": 1, \"area_se\": 1, \"area_worst\": 1}\n",
    "observation_2 = {\"area_mean\": 2, \"area_se\": 2, \"area_worst\": 2}\n",
    "marginals = ie.query([observation_1, observation_2])\n"
   ]
  },
  {
   "cell_type": "code",
   "execution_count": null,
   "metadata": {},
   "outputs": [],
   "source": [
    "for m in marginals:\n",
    "  print(m['diagnosis'])"
   ]
  }
 ],
 "metadata": {
  "interpreter": {
   "hash": "de904489166c5f719a1e98efd5f727ae949ffe67b81d9abbe9e9d7c94b4b6892"
  },
  "kernelspec": {
   "display_name": "Python 3 (ipykernel)",
   "language": "python",
   "name": "python3"
  },
  "language_info": {
   "codemirror_mode": {
    "name": "ipython",
    "version": 3
   },
   "file_extension": ".py",
   "mimetype": "text/x-python",
   "name": "python",
   "nbconvert_exporter": "python",
   "pygments_lexer": "ipython3",
   "version": "3.9.6"
  }
 },
 "nbformat": 4,
 "nbformat_minor": 2
}
